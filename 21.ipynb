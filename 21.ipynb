{
 "cells": [
  {
   "cell_type": "code",
   "execution_count": 7,
   "id": "e23da816-4795-4998-a527-a42561704d7c",
   "metadata": {},
   "outputs": [],
   "source": [
    "#import thư viện \n",
    "import cv2"
   ]
  },
  {
   "cell_type": "code",
   "execution_count": 9,
   "id": "e80a326b-179a-4bc9-a622-99c7dd7ad054",
   "metadata": {},
   "outputs": [],
   "source": [
    "my_video = cv2.VideoCapture('./data/pnghi.mp4')\n"
   ]
  },
  {
   "cell_type": "code",
   "execution_count": 11,
   "id": "e7bdcee3-a24d-41aa-aa15-59c60e415bfb",
   "metadata": {},
   "outputs": [],
   "source": [
    "cv2.namedWindow('Video player', cv2.WINDOW_NORMAL)"
   ]
  },
  {
   "cell_type": "code",
   "execution_count": 15,
   "id": "ae0ab341-47e2-41de-9f11-b4945e7b10e6",
   "metadata": {},
   "outputs": [],
   "source": [
    "#HIỂN THỊ Khung ảnh\n",
    "while True:\n",
    "    #đọc 1 frame\n",
    "    ret, frame = my_video.read()\n",
    "    #thoát khi ko đọc được frame\n",
    "    if not ret:\n",
    "        break\n",
    "\n",
    "    #hiển thị\n",
    "    cv2.imshow('video playe', frame)\n",
    "    if(cv2.waitKey(10) == ord('q')):\n",
    "        break"
   ]
  },
  {
   "cell_type": "code",
   "execution_count": null,
   "id": "9c555ba5-3e32-4d8d-a441-a9051d2c13e5",
   "metadata": {},
   "outputs": [],
   "source": []
  }
 ],
 "metadata": {
  "kernelspec": {
   "display_name": "Python 3 (ipykernel)",
   "language": "python",
   "name": "python3"
  },
  "language_info": {
   "codemirror_mode": {
    "name": "ipython",
    "version": 3
   },
   "file_extension": ".py",
   "mimetype": "text/x-python",
   "name": "python",
   "nbconvert_exporter": "python",
   "pygments_lexer": "ipython3",
   "version": "3.12.4"
  }
 },
 "nbformat": 4,
 "nbformat_minor": 5
}
