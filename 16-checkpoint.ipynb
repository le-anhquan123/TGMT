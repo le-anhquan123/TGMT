{
 "cells": [
  {
   "cell_type": "code",
   "execution_count": 1,
   "id": "c1c74359-2512-4eb0-b234-465d72aa8bfc",
   "metadata": {},
   "outputs": [
    {
     "name": "stdout",
     "output_type": "stream",
     "text": [
      "Requirement already satisfied: scipy in c:\\users\\admin\\anaconda3\\lib\\site-packages (1.13.1)\n",
      "Requirement already satisfied: numpy<2.3,>=1.22.4 in c:\\users\\admin\\anaconda3\\lib\\site-packages (from scipy) (1.26.4)\n"
     ]
    }
   ],
   "source": [
    "!pip install scipy"
   ]
  },
  {
   "cell_type": "code",
   "execution_count": 3,
   "id": "2efbe9bb-8baa-4330-ba31-dbb77b136908",
   "metadata": {},
   "outputs": [],
   "source": [
    "from scipy import linalg\n",
    "import numpy as np"
   ]
  },
  {
   "cell_type": "code",
   "execution_count": 33,
   "id": "809fee4c-45fd-47e9-9705-0fb3b4e03d4b",
   "metadata": {},
   "outputs": [
    {
     "name": "stdout",
     "output_type": "stream",
     "text": [
      "Kết quả:  [-1.50119988e+15  3.00239975e+15]\n"
     ]
    },
    {
     "name": "stderr",
     "output_type": "stream",
     "text": [
      "C:\\Users\\Admin\\AppData\\Local\\Temp\\ipykernel_8236\\1140543924.py:5: LinAlgWarning: Ill-conditioned matrix (rcond=7.40149e-18): result may not be accurate.\n",
      "  x = linalg.solve(A, b)\n"
     ]
    }
   ],
   "source": [
    "# định nghĩa hệ phương trình tuyến tính\n",
    "A = np.array([[4, 2], [6,3]])\n",
    "b = np.array([3,4])\n",
    "# giải hệ phương trình tuyến tính\n",
    "x = linalg.solve(A, b)\n",
    "print(\"Kết quả: \", x)"
   ]
  },
  {
   "cell_type": "code",
   "execution_count": 43,
   "id": "1d077580-eda8-4f2f-90f1-8458dd946e53",
   "metadata": {},
   "outputs": [
    {
     "name": "stdout",
     "output_type": "stream",
     "text": [
      "tích phân f(x) từ 0 đến 1:  (25.5, 2.831068712794149e-13)\n"
     ]
    }
   ],
   "source": [
    "from scipy import linalg\n",
    "import numpy as np\n",
    "#tính tich phân của 1 hàm số\n",
    "#định nghĩa f(x)=x^2\n",
    "from scipy import integrate\n",
    "def my_function(x):\n",
    "    return x**2-x-1;\n",
    "\n",
    "#tính tích phân của f(x) từ 0 đến 1\n",
    "integral = integrate.quad(my_function, 2 , 5)\n",
    "print(\"tích phân f(x) từ 0 đến 1: \", integral)"
   ]
  },
  {
   "cell_type": "code",
   "execution_count": 29,
   "id": "d7c0b884-4b23-4b4d-9f27-fc7a24edde62",
   "metadata": {},
   "outputs": [
    {
     "name": "stdout",
     "output_type": "stream",
     "text": [
      "giá trị riêng:  [3.73205081+0.j 0.26794919+0.j]\n",
      "vector riêng:  [[ 0.5       -0.5      ]\n",
      " [ 0.8660254  0.8660254]]\n"
     ]
    }
   ],
   "source": [
    "#tính giá trị riêng và vector riêng của 1 ma trận\n",
    "A = np.array([[2,1],[3,2]])\n",
    "#tính giá trị riêng vector\n",
    "evals, evecs = linalg.eig(A)\n",
    "\n",
    "print(\"giá trị riêng: \" ,evals)\n",
    "print(\"vector riêng: \" , evecs)"
   ]
  },
  {
   "cell_type": "code",
   "execution_count": null,
   "id": "bf669a4b-8d31-4ef6-9cf6-347d292fed73",
   "metadata": {},
   "outputs": [],
   "source": []
  }
 ],
 "metadata": {
  "kernelspec": {
   "display_name": "Python 3 (ipykernel)",
   "language": "python",
   "name": "python3"
  },
  "language_info": {
   "codemirror_mode": {
    "name": "ipython",
    "version": 3
   },
   "file_extension": ".py",
   "mimetype": "text/x-python",
   "name": "python",
   "nbconvert_exporter": "python",
   "pygments_lexer": "ipython3",
   "version": "3.12.4"
  }
 },
 "nbformat": 4,
 "nbformat_minor": 5
}
