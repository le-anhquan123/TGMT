{
 "cells": [
  {
   "cell_type": "code",
   "execution_count": 3,
   "id": "1c1cade5-d063-4b79-b383-4daff55704af",
   "metadata": {},
   "outputs": [
    {
     "name": "stdout",
     "output_type": "stream",
     "text": [
      "Requirement already satisfied: matplotlib in c:\\users\\admin\\anaconda3\\lib\\site-packages (3.8.4)\n",
      "Requirement already satisfied: contourpy>=1.0.1 in c:\\users\\admin\\anaconda3\\lib\\site-packages (from matplotlib) (1.2.0)\n",
      "Requirement already satisfied: cycler>=0.10 in c:\\users\\admin\\anaconda3\\lib\\site-packages (from matplotlib) (0.11.0)\n",
      "Requirement already satisfied: fonttools>=4.22.0 in c:\\users\\admin\\anaconda3\\lib\\site-packages (from matplotlib) (4.51.0)\n",
      "Requirement already satisfied: kiwisolver>=1.3.1 in c:\\users\\admin\\anaconda3\\lib\\site-packages (from matplotlib) (1.4.4)\n",
      "Requirement already satisfied: numpy>=1.21 in c:\\users\\admin\\anaconda3\\lib\\site-packages (from matplotlib) (1.26.4)\n",
      "Requirement already satisfied: packaging>=20.0 in c:\\users\\admin\\anaconda3\\lib\\site-packages (from matplotlib) (23.2)\n",
      "Requirement already satisfied: pillow>=8 in c:\\users\\admin\\anaconda3\\lib\\site-packages (from matplotlib) (10.4.0)\n",
      "Requirement already satisfied: pyparsing>=2.3.1 in c:\\users\\admin\\anaconda3\\lib\\site-packages (from matplotlib) (3.0.9)\n",
      "Requirement already satisfied: python-dateutil>=2.7 in c:\\users\\admin\\anaconda3\\lib\\site-packages (from matplotlib) (2.9.0.post0)\n",
      "Requirement already satisfied: six>=1.5 in c:\\users\\admin\\anaconda3\\lib\\site-packages (from python-dateutil>=2.7->matplotlib) (1.16.0)\n"
     ]
    }
   ],
   "source": [
    "!pip install matplotlib"
   ]
  },
  {
   "cell_type": "code",
   "execution_count": 7,
   "id": "885ad06c-745c-45de-8824-8f86404dc557",
   "metadata": {},
   "outputs": [],
   "source": [
    "import matplotlib as mpl\n",
    "import matplotlib.pyplot as plt\n",
    "from PIL import Image\n",
    "import numpy as np"
   ]
  },
  {
   "cell_type": "code",
   "execution_count": 9,
   "id": "f3c27e75-aa74-459c-bf81-07483c31c776",
   "metadata": {},
   "outputs": [],
   "source": [
    "my_path = 'C:/Users/Admin/Documents/baitap TGMT/img/01/67.png'\n"
   ]
  },
  {
   "cell_type": "code",
   "execution_count": 11,
   "id": "d7cbe919-5a12-4b48-bec8-b154ff206045",
   "metadata": {},
   "outputs": [
    {
     "name": "stdout",
     "output_type": "stream",
     "text": [
      "[(115.4090909090909, 86.67532467532465), (117.84415584415584, 126.1233766233766), (82.77922077922076, 98.85064935064932), (104.69480519480518, 137.3246753246753), (103.23376623376623, 92.0324675324675)]\n"
     ]
    }
   ],
   "source": [
    "#dọc và hiển thị ảnh \n",
    "img = Image.open(my_path)\n",
    "#display(img)\n",
    "#plt.imshow(img)\n",
    "#chuyển đôi background\n",
    "plt.switch_backend(\"tkagg\")\n",
    "plt.imshow(img)\n",
    "plt.title(\"Click on the image to select points\")\n",
    "\n",
    "#Sủ dụng hàm ginput() để chọn điểm trển ảnh\n",
    "points = plt.ginput(5)\n",
    "print(points)\n",
    "plt.show()"
   ]
  },
  {
   "cell_type": "code",
   "execution_count": 13,
   "id": "44ea35fe-2741-4a79-b4e3-bb5607c56668",
   "metadata": {},
   "outputs": [],
   "source": [
    "#vẽ lại các điểm bằng dấu * màu đỏ\n",
    "plt.close()\n",
    "\n",
    "#vẽ lại\n",
    "plt.imshow(img)\n",
    "for point in points:\n",
    "    x,y = point\n",
    "    plt.plot(x,y, 'r*')\n",
    "\n",
    "plt.show()"
   ]
  },
  {
   "cell_type": "code",
   "execution_count": null,
   "id": "ac202817-296a-4dbd-b624-1b87406b2daa",
   "metadata": {},
   "outputs": [],
   "source": []
  }
 ],
 "metadata": {
  "kernelspec": {
   "display_name": "Python 3 (ipykernel)",
   "language": "python",
   "name": "python3"
  },
  "language_info": {
   "codemirror_mode": {
    "name": "ipython",
    "version": 3
   },
   "file_extension": ".py",
   "mimetype": "text/x-python",
   "name": "python",
   "nbconvert_exporter": "python",
   "pygments_lexer": "ipython3",
   "version": "3.12.4"
  }
 },
 "nbformat": 4,
 "nbformat_minor": 5
}
