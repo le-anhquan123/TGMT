{
  "nbformat": 4,
  "nbformat_minor": 0,
  "metadata": {
    "colab": {
      "provenance": []
    },
    "kernelspec": {
      "name": "python3",
      "display_name": "Python 3"
    },
    "language_info": {
      "name": "python"
    }
  },
  "cells": [
    {
      "cell_type": "code",
      "execution_count": 3,
      "metadata": {
        "id": "rMse0d1g-qZM"
      },
      "outputs": [],
      "source": [
        "# @title Văn bản tiêu đề mặc định\n",
        "import numpy as np\n",
        "import cv2\n",
        "import dlib\n",
        "import os\n",
        "from imutils import face_utils\n",
        "from google.colab import drive\n",
        "from google.colab.patches import cv2_imshow"
      ]
    },
    {
      "cell_type": "code",
      "source": [
        "drive.mount('/content/drive')\n"
      ],
      "metadata": {
        "colab": {
          "base_uri": "https://localhost:8080/"
        },
        "id": "uyFey7nP_fM8",
        "outputId": "ab042c47-80a0-476d-b865-b7cf57e0086e"
      },
      "execution_count": 4,
      "outputs": [
        {
          "output_type": "stream",
          "name": "stdout",
          "text": [
            "Mounted at /content/drive\n"
          ]
        }
      ]
    },
    {
      "cell_type": "code",
      "source": [
        "path = '/content/drive/MyDrive/test_opencv'\n",
        "# Hiển thị tất cả thư mục hoặc file\n",
        "os.listdir(path)"
      ],
      "metadata": {
        "colab": {
          "base_uri": "https://localhost:8080/"
        },
        "id": "3R5jRoFj_nSV",
        "outputId": "58df7e11-e690-40d3-cf27-39b3ce064ca3"
      },
      "execution_count": 5,
      "outputs": [
        {
          "output_type": "execute_result",
          "data": {
            "text/plain": [
              "['image_20.jpg',\n",
              " 'image_60.jpg',\n",
              " 'image_180.jpg',\n",
              " 'models',\n",
              " 'FaceImage',\n",
              " 'ok_data_face_features.pickle']"
            ]
          },
          "metadata": {},
          "execution_count": 5
        }
      ]
    },
    {
      "cell_type": "code",
      "source": [
        "# Tải về mô hình đã được huấn luyện từ trước\n",
        "net = cv2.dnn.readNetFromCaffe(\n",
        "   '/content/drive/MyDrive/test_opencv/models/deploy.prototxt.txt', '/content/drive/MyDrive/test_opencv/models/res10_300x300_ssd_iter_140000_fp16.caffemodel'\n",
        ")\n",
        "\n",
        "# Mở webcam\n",
        "cap = cv2.VideoCapture(0)\n",
        "\n",
        "while True:\n",
        "    # Đọc khung hình từ camera\n",
        "    ret, frame = cap.read()\n",
        "\n",
        "    if not ret:\n",
        "        break\n",
        "\n",
        "    # Chuẩn bị các dữ liệu đầu vào\n",
        "    # img: Đây là ảnh đầu vào mà bạn muốn nhận dạng khuôn mặt. Trong trường hợp của bạn, bạn đã đọc ảnh từ tệp \"face.png\".\n",
        "    # 1.0: Đây là tỷ lệ co giãn cho ảnh. Trong trường hợp này, ảnh sẽ không bị co giãn hoặc mở rộng, và giữ nguyên kích thước ban đầu.\n",
        "    # (300, 300): Đây là kích thước mà mô hình yêu cầu cho ảnh đầu vào. Mô hình mà bạn đang sử dụng mong muốn ảnh có kích thước 300x300 pixel. Do đó, bạn co giãn hoặc cắt ảnh đầu vào thành kích thước này.\n",
        "    # (104, 177, 123): Đây là giá trị trung bình màu sắc được trừ đi từ mỗi pixel của ảnh. Điều này thường được sử dụng để chuẩn hóa dữ liệu đầu vào. Trong trường hợp này, các giá trị này thường được lấy từ dữ liệu huấn luyện của mô hình.\n",
        "    # swapRB=False: Đây là một cờ để xác định xem có cần hoán đổi các kênh màu đỏ và xanh (Red-Blue) trong ảnh hay không. Trong trường hợp này, bạn đã đặt nó thành False, tức là không hoán đổi kênh mà\n",
        "    blob = cv2.dnn.blobFromImage(frame, 1.0, (300, 300), (104, 177, 123), swapRB=False)\n",
        "\n",
        "    # Đặt dữ liệu đầu vào cho mạng\n",
        "    net.setInput(blob)\n",
        "\n",
        "    # Chạy mạng để phát hiện khuôn mặt\n",
        "    faces = net.forward()\n",
        "\n",
        "    # Lấy kích thước của ảnh đầu vào\n",
        "    h = frame.shape[0]\n",
        "    w = frame.shape[1]\n",
        "\n",
        "    # Duyệt từng khuôn mặt đã được phát hiện\n",
        "    for i in range(0, faces.shape[2]):\n",
        "        confidence = faces[0,0,i,2]\n",
        "        # Kiểm tra nếu mặt có độ tin cậy là 0.5\n",
        "        if confidence>0.5:\n",
        "            # Trích xuất tọa độ\n",
        "            # print(faces[0, 0, i, 3:7])\n",
        "            startx = int(faces[0, 0, i, 3]*w)\n",
        "            starty = int(faces[0, 0, i, 4]*h)\n",
        "            endx = int(faces[0, 0, i, 5]*w)\n",
        "            endy = int(faces[0, 0, i, 6]*h)\n",
        "            # print(startx, starty, endx, endy)\n",
        "\n",
        "            # Vẽ hình chữ nhật xung quanh khuôn mặt đã phát hiện\n",
        "            cv2.rectangle(frame, (startx, starty), (endx, endy), (0, 255, 0),)\n",
        "\n",
        "            # Hiển thị độ tin cậy\n",
        "            text = 'Face: {:.2f}%'.format(confidence*100);\n",
        "            cv2.putText(frame, text, (startx, starty-10), cv2.FONT_HERSHEY_PLAIN, 1, (255,255,255),)\n",
        "\n",
        "    # Hiển thị ảnh gốc\n",
        "    cv2.imshow('Kết quả', frame)\n",
        "    if(cv2.waitKey(1)==ord('q')):\n",
        "        break\n",
        "\n",
        "cap.release()\n",
        "cv2.destroyAllWindows()"
      ],
      "metadata": {
        "id": "HlwfOKBU-tEc"
      },
      "execution_count": 12,
      "outputs": []
    },
    {
      "cell_type": "code",
      "source": [],
      "metadata": {
        "id": "wZFCh5vK-_f7"
      },
      "execution_count": null,
      "outputs": []
    }
  ]
}