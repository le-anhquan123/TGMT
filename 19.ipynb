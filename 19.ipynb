{
 "cells": [
  {
   "cell_type": "code",
   "execution_count": 13,
   "id": "e23da816-4795-4998-a527-a42561704d7c",
   "metadata": {},
   "outputs": [],
   "source": [
    "#import thư viện \n",
    "import cv2"
   ]
  },
  {
   "cell_type": "code",
   "execution_count": 15,
   "id": "e80a326b-179a-4bc9-a622-99c7dd7ad054",
   "metadata": {},
   "outputs": [],
   "source": [
    "def display(title, img):\n",
    "    #hiên thị ảnh\n",
    "    cv2.imshow(\"window\", img)\n",
    "    #chờ 1 khoảng tgian\n",
    "    cv2.waitKey(10000)\n",
    "    #đóng window\n",
    "    cv2.destroyWindow(\"window\")"
   ]
  },
  {
   "cell_type": "code",
   "execution_count": 17,
   "id": "2ed8e8ab-5752-430c-b169-5ad2ef1bac7c",
   "metadata": {},
   "outputs": [
    {
     "name": "stdout",
     "output_type": "stream",
     "text": [
      "[[[255 255 255]\n",
      "  [255 255 255]\n",
      "  [255 255 255]\n",
      "  ...\n",
      "  [255 255 255]\n",
      "  [255 255 255]\n",
      "  [255 255 255]]\n",
      "\n",
      " [[255 255 255]\n",
      "  [255 255 255]\n",
      "  [255 255 255]\n",
      "  ...\n",
      "  [255 255 255]\n",
      "  [255 255 255]\n",
      "  [255 255 255]]\n",
      "\n",
      " [[255 255 255]\n",
      "  [255 255 255]\n",
      "  [255 255 255]\n",
      "  ...\n",
      "  [255 255 255]\n",
      "  [255 255 255]\n",
      "  [255 255 255]]\n",
      "\n",
      " ...\n",
      "\n",
      " [[ 52  90 255]\n",
      "  [ 52  90 255]\n",
      "  [ 52  90 255]\n",
      "  ...\n",
      "  [ 52  90 255]\n",
      "  [ 52  90 255]\n",
      "  [ 52  90 255]]\n",
      "\n",
      " [[ 52  90 255]\n",
      "  [ 52  90 255]\n",
      "  [ 52  90 255]\n",
      "  ...\n",
      "  [ 52  90 255]\n",
      "  [ 52  90 255]\n",
      "  [ 52  90 255]]\n",
      "\n",
      " [[ 52  90 255]\n",
      "  [ 52  90 255]\n",
      "  [ 52  90 255]\n",
      "  ...\n",
      "  [ 52  90 255]\n",
      "  [ 52  90 255]\n",
      "  [ 52  90 255]]]\n"
     ]
    }
   ],
   "source": [
    "path = 'C:/Users/Admin/Documents/baitap TGMT/img/01/67.png'\n",
    "img = cv2.imread(path)\n",
    "print(img)"
   ]
  },
  {
   "cell_type": "code",
   "execution_count": 19,
   "id": "db2b6321-d325-4326-b75c-b8ac6c2769d8",
   "metadata": {},
   "outputs": [
    {
     "name": "stdout",
     "output_type": "stream",
     "text": [
      "(225, 225, 3)\n"
     ]
    }
   ],
   "source": [
    "#lấy  kích thiuoc71\n",
    "print(img.shape)"
   ]
  },
  {
   "cell_type": "code",
   "execution_count": 21,
   "id": "f3db04af-b039-4616-8e64-54e6e9a763b3",
   "metadata": {},
   "outputs": [
    {
     "ename": "error",
     "evalue": "OpenCV(4.10.0) D:\\a\\opencv-python\\opencv-python\\opencv\\modules\\highgui\\src\\window_w32.cpp:1261: error: (-27:Null pointer) NULL window: 'window' in function 'cvDestroyWindow'\n",
     "output_type": "error",
     "traceback": [
      "\u001b[1;31m---------------------------------------------------------------------------\u001b[0m",
      "\u001b[1;31merror\u001b[0m                                     Traceback (most recent call last)",
      "Cell \u001b[1;32mIn[21], line 6\u001b[0m\n\u001b[0;32m      4\u001b[0m cv2\u001b[38;5;241m.\u001b[39mwaitKey(\u001b[38;5;241m10000\u001b[39m)\n\u001b[0;32m      5\u001b[0m \u001b[38;5;66;03m#đóng window\u001b[39;00m\n\u001b[1;32m----> 6\u001b[0m cv2\u001b[38;5;241m.\u001b[39mdestroyWindow(\u001b[38;5;124m\"\u001b[39m\u001b[38;5;124mwindow\u001b[39m\u001b[38;5;124m\"\u001b[39m)\n",
      "\u001b[1;31merror\u001b[0m: OpenCV(4.10.0) D:\\a\\opencv-python\\opencv-python\\opencv\\modules\\highgui\\src\\window_w32.cpp:1261: error: (-27:Null pointer) NULL window: 'window' in function 'cvDestroyWindow'\n"
     ]
    }
   ],
   "source": [
    "#hiên thị ảnh\n",
    "cv2.imshow(\"window\", img)\n",
    "#chờ 1 khoảng tgian\n",
    "cv2.waitKey(10000)\n",
    "#đóng window\n",
    "cv2.destroyWindow(\"window\")"
   ]
  },
  {
   "cell_type": "code",
   "execution_count": null,
   "id": "d1d49cdb-2fa1-4507-8a37-bad4383c626c",
   "metadata": {},
   "outputs": [],
   "source": [
    "b , g , r = cv2.split(img)\n",
    "cv2.imshow(\"window\", img)\n",
    "cv2.imshow(\"Red\", r)\n",
    "cv2.imshow(\"Green\", g)\n",
    "cv2.imshow(\"Blue\", b)\n",
    "cv2.waitKey(0)\n",
    "#đóng window\n",
    "cv2.destroyAllWindow()"
   ]
  },
  {
   "cell_type": "code",
   "execution_count": 24,
   "id": "0bd4e352-eb46-4574-90b3-007bd929bda9",
   "metadata": {},
   "outputs": [
    {
     "ename": "AttributeError",
     "evalue": "module 'cv2' has no attribute 'destroyAllWindow'",
     "output_type": "error",
     "traceback": [
      "\u001b[1;31m---------------------------------------------------------------------------\u001b[0m",
      "\u001b[1;31mAttributeError\u001b[0m                            Traceback (most recent call last)",
      "Cell \u001b[1;32mIn[24], line 9\u001b[0m\n\u001b[0;32m      7\u001b[0m cv2\u001b[38;5;241m.\u001b[39mwaitKey(\u001b[38;5;241m0\u001b[39m)\n\u001b[0;32m      8\u001b[0m \u001b[38;5;66;03m#đóng window\u001b[39;00m\n\u001b[1;32m----> 9\u001b[0m cv2\u001b[38;5;241m.\u001b[39mdestroyAllWindow()\n",
      "\u001b[1;31mAttributeError\u001b[0m: module 'cv2' has no attribute 'destroyAllWindow'"
     ]
    }
   ],
   "source": [
    "gray_img = cv2.cvtColor(img, cv2.COLOR_BGR2GRAY)\n",
    "img_2 = cv2.cvtColor(img, cv2.COLOR_BGR2RGB)\n",
    "cv2.imshow(\"window\", img)\n",
    "cv2.imshow(\"gray_img\", gray_img)\n",
    "cv2.imshow(\"img_2\",img_2)\n",
    "#chờ 1 tgian\n",
    "cv2.waitKey(0)\n",
    "#đóng window\n",
    "cv2.destroyAllWindow()"
   ]
  },
  {
   "cell_type": "code",
   "execution_count": 26,
   "id": "51b90dc6-677e-4785-82da-51a6ddba5d6b",
   "metadata": {},
   "outputs": [],
   "source": [
    "#thay đổi thong tin số của điểm ảnh\n",
    "height , width , z = img.shape\n",
    "quater_h = height/2\n",
    "quater_w =  width/2\n",
    "#green color\n",
    "green_color = (0,255,0)\n",
    "#thay đổi màu của góc 1/4 phía trên\n",
    "for y in range(int(quater_h)):\n",
    "    for x in range(int(quater_w)):\n",
    "        img_2[y,x] = green_color\n",
    "\n",
    "display(\"Window\", img)\n",
    "display(\"Window\", img_2)\n",
    "        "
   ]
  },
  {
   "cell_type": "code",
   "execution_count": null,
   "id": "6f0ec2c5-ed9d-495c-8ad0-19bb59708d51",
   "metadata": {},
   "outputs": [],
   "source": []
  }
 ],
 "metadata": {
  "kernelspec": {
   "display_name": "Python 3 (ipykernel)",
   "language": "python",
   "name": "python3"
  },
  "language_info": {
   "codemirror_mode": {
    "name": "ipython",
    "version": 3
   },
   "file_extension": ".py",
   "mimetype": "text/x-python",
   "name": "python",
   "nbconvert_exporter": "python",
   "pygments_lexer": "ipython3",
   "version": "3.12.4"
  }
 },
 "nbformat": 4,
 "nbformat_minor": 5
}
