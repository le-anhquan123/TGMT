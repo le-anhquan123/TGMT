{
 "cells": [
  {
   "cell_type": "code",
   "execution_count": 2,
   "id": "e23da816-4795-4998-a527-a42561704d7c",
   "metadata": {},
   "outputs": [],
   "source": [
    "#import thư viện \n",
    "import cv2\n",
    "import time"
   ]
  },
  {
   "cell_type": "code",
   "execution_count": 4,
   "id": "e80a326b-179a-4bc9-a622-99c7dd7ad054",
   "metadata": {},
   "outputs": [],
   "source": [
    "camera = cv2.VideoCapture(0)\n"
   ]
  },
  {
   "cell_type": "code",
   "execution_count": 6,
   "id": "e7bdcee3-a24d-41aa-aa15-59c60e415bfb",
   "metadata": {},
   "outputs": [],
   "source": [
    "cv2.namedWindow('Video player', cv2.WINDOW_NORMAL)"
   ]
  },
  {
   "cell_type": "code",
   "execution_count": 8,
   "id": "83dfb7b6-b32a-494d-9ac0-3bdea8b74617",
   "metadata": {},
   "outputs": [],
   "source": [
    "#GHI TEXT TRÊN hình ảnh\n",
    "font = cv2.FONT_HERSHEY_SIMPLEX\n",
    "font_color = (255,255,255)\n",
    "font_scale = 2\n",
    "font_thicknes = 2\n"
   ]
  },
  {
   "cell_type": "code",
   "execution_count": null,
   "id": "e9e6c9db-f18a-44a9-b1eb-80d95973f88a",
   "metadata": {},
   "outputs": [],
   "source": [
    "# Hiển thị từng khung ảnh\n",
    "while True:\n",
    "    # Thời gian trước khi đọc\n",
    "    start_time = time.time()\n",
    "    # Đọc 1 frame\n",
    "    ret, frame = camera.read()\n",
    "    # Thoát khi không thể đọc được frame\n",
    "    if not ret:\n",
    "        break\n",
    "    # Thời gian trước khi đọc\n",
    "    end_time = time.time()    \n",
    "    # Tình FPS:\n",
    "    fps = 1/(end_time-start_time)\n",
    "    # Ghi số lượng fps\n",
    "    cv2.putText(frame, f'FPS: {fps:.2f}', (100, 100), font, font_scale, font_color , font_thicknes)\n",
    "    # Hiển thị\n",
    "    cv2.imshow('Video Player', frame)\n",
    "    if(cv2.waitKey(10)==ord('q')):\n",
    "        break\n",
    "\n",
    "# Hủy bỏ player\n"
   ]
  },
  {
   "cell_type": "code",
   "execution_count": null,
   "id": "875a4f6b-dc3c-4ed1-bc52-8895eaa77c9b",
   "metadata": {},
   "outputs": [],
   "source": [
    "camera.release()\n",
    "cv2.destroyAllWindows()"
   ]
  },
  {
   "cell_type": "code",
   "execution_count": null,
   "id": "6e64930a-c1c7-4a00-adde-887cac3fdc03",
   "metadata": {},
   "outputs": [],
   "source": []
  }
 ],
 "metadata": {
  "kernelspec": {
   "display_name": "Python 3 (ipykernel)",
   "language": "python",
   "name": "python3"
  },
  "language_info": {
   "codemirror_mode": {
    "name": "ipython",
    "version": 3
   },
   "file_extension": ".py",
   "mimetype": "text/x-python",
   "name": "python",
   "nbconvert_exporter": "python",
   "pygments_lexer": "ipython3",
   "version": "3.12.4"
  }
 },
 "nbformat": 4,
 "nbformat_minor": 5
}
